{
  "cells": [
    {
      "cell_type": "code",
      "execution_count": null,
      "metadata": {
        "id": "nZp_0sELk1xJ"
      },
      "outputs": [],
      "source": [
        "#---Technical Seminar\n",
        "\n",
        "#---Twitter Sentimental Analysis\n",
        "\n",
        "#---Name: Khushil M Sindhwad\n",
        "#---USN:  1BM19CS072\n",
        "#---Sec:  4th Sem CSE B\n",
        "\n",
        "#the modules used for the sentimental analysis\n",
        "from textblob import TextBlob\n",
        "import pandas as pd\n",
        "import numpy as np\n",
        "import re\n",
        "import matplotlib.pyplot as plt\n",
        "plt.style.use('fivethirtyeight')"
      ]
    },
    {
      "cell_type": "code",
      "execution_count": null,
      "metadata": {
        "colab": {
          "base_uri": "https://localhost:8080/"
        },
        "id": "k5ztVgfkk2xv",
        "outputId": "f4354f54-c690-4816-de7f-249533cd379c"
      },
      "outputs": [
        {
          "name": "stdout",
          "output_type": "stream",
          "text": [
            "Show the 5 recent tweets:\n",
            "\n",
            "Be sure to tune in and watch Donald Trump on Late Night with David Letterman as he presents the Top Ten List tonight!\n",
            "\n",
            "Donald Trump will be appearing on The View tomorrow morning to discuss Celebrity Apprentice and his new book Think Like A Champion!\n",
            "\n",
            "Donald Trump reads Top Ten Financial Tips on Late Show with David Letterman: http://tinyurl.com/ooafwn - Very funny!\n",
            "\n",
            "New Blog Post: Celebrity Apprentice Finale and Lessons Learned Along the Way: http://tinyurl.com/qlux5e\n",
            "\n",
            "\"My persona will never be that of a wallflower - I’d rather build walls than cling to them\" --Donald J. Trump\n",
            "\n"
          ]
        }
      ],
      "source": [
        "posts=pd.read_csv(\"trumptweets.csv\",nrows=100)['content']\n",
        "print(\"Show the 5 recent tweets:\\n\")\n",
        "i=1\n",
        "for tweet in posts[:5]:\n",
        "  print(tweet + '\\n')"
      ]
    },
    {
      "cell_type": "code",
      "execution_count": null,
      "metadata": {
        "colab": {
          "base_uri": "https://localhost:8080/",
          "height": 203
        },
        "id": "tWRbA6WImT2J",
        "outputId": "154763f1-3215-43ef-9956-44e96648aedd"
      },
      "outputs": [
        {
          "data": {
            "text/html": [
              "<div>\n",
              "<style scoped>\n",
              "    .dataframe tbody tr th:only-of-type {\n",
              "        vertical-align: middle;\n",
              "    }\n",
              "\n",
              "    .dataframe tbody tr th {\n",
              "        vertical-align: top;\n",
              "    }\n",
              "\n",
              "    .dataframe thead th {\n",
              "        text-align: right;\n",
              "    }\n",
              "</style>\n",
              "<table border=\"1\" class=\"dataframe\">\n",
              "  <thead>\n",
              "    <tr style=\"text-align: right;\">\n",
              "      <th></th>\n",
              "      <th>Tweets</th>\n",
              "    </tr>\n",
              "  </thead>\n",
              "  <tbody>\n",
              "    <tr>\n",
              "      <th>0</th>\n",
              "      <td>Be sure to tune in and watch Donald Trump on L...</td>\n",
              "    </tr>\n",
              "    <tr>\n",
              "      <th>1</th>\n",
              "      <td>Donald Trump will be appearing on The View tom...</td>\n",
              "    </tr>\n",
              "    <tr>\n",
              "      <th>2</th>\n",
              "      <td>Donald Trump reads Top Ten Financial Tips on L...</td>\n",
              "    </tr>\n",
              "    <tr>\n",
              "      <th>3</th>\n",
              "      <td>New Blog Post: Celebrity Apprentice Finale and...</td>\n",
              "    </tr>\n",
              "    <tr>\n",
              "      <th>4</th>\n",
              "      <td>\"My persona will never be that of a wallflower...</td>\n",
              "    </tr>\n",
              "  </tbody>\n",
              "</table>\n",
              "</div>"
            ],
            "text/plain": [
              "                                              Tweets\n",
              "0  Be sure to tune in and watch Donald Trump on L...\n",
              "1  Donald Trump will be appearing on The View tom...\n",
              "2  Donald Trump reads Top Ten Financial Tips on L...\n",
              "3  New Blog Post: Celebrity Apprentice Finale and...\n",
              "4  \"My persona will never be that of a wallflower..."
            ]
          },
          "execution_count": 3,
          "metadata": {
            "tags": []
          },
          "output_type": "execute_result"
        }
      ],
      "source": [
        "# passing the data to the data frame of panda\n",
        "df = pd.DataFrame([tweet for tweet in posts], columns=['Tweets'])\n",
        "df.head()"
      ]
    },
    {
      "cell_type": "code",
      "execution_count": null,
      "metadata": {
        "id": "JE9jR3u9mjuG"
      },
      "outputs": [],
      "source": [
        "# The function to remove all the irrelavant parts of the tweet.\n",
        "def cleanTxt(text):\n",
        " text = re.sub('@[A-Za-z0–9]+', '', text) #Removing @mentions\n",
        " text = re.sub('#', '', text) # Removing '#' hash tag\n",
        " text = re.sub('RT[\\s]+', '', text) # Removing RT\n",
        " text = re.sub('https?:\\/\\/\\S+', '', text) # Removing hyperlink\n",
        " \n",
        " return text\n",
        "\n",
        "\n",
        "# Applying the function on all the tweets.\n",
        "df['Tweets'] = df['Tweets'].apply(cleanTxt)\n",
        "\n",
        "# To display the changes\n",
        "df"
      ]
    },
    {
      "cell_type": "code",
      "execution_count": null,
      "metadata": {
        "colab": {
          "base_uri": "https://localhost:8080/",
          "height": 417
        },
        "id": "D4gz1VFNmtfq",
        "outputId": "8ef4d800-b82a-4a31-ad7d-63e7769382b5"
      },
      "outputs": [
        {
          "data": {
            "text/html": [
              "<div>\n",
              "<style scoped>\n",
              "    .dataframe tbody tr th:only-of-type {\n",
              "        vertical-align: middle;\n",
              "    }\n",
              "\n",
              "    .dataframe tbody tr th {\n",
              "        vertical-align: top;\n",
              "    }\n",
              "\n",
              "    .dataframe thead th {\n",
              "        text-align: right;\n",
              "    }\n",
              "</style>\n",
              "<table border=\"1\" class=\"dataframe\">\n",
              "  <thead>\n",
              "    <tr style=\"text-align: right;\">\n",
              "      <th></th>\n",
              "      <th>Tweets</th>\n",
              "      <th>Subjectivity</th>\n",
              "      <th>Polarity</th>\n",
              "    </tr>\n",
              "  </thead>\n",
              "  <tbody>\n",
              "    <tr>\n",
              "      <th>0</th>\n",
              "      <td>Be sure to tune in and watch Donald Trump on L...</td>\n",
              "      <td>0.497222</td>\n",
              "      <td>0.175000</td>\n",
              "    </tr>\n",
              "    <tr>\n",
              "      <th>1</th>\n",
              "      <td>Donald Trump will be appearing on The View tom...</td>\n",
              "      <td>0.454545</td>\n",
              "      <td>0.170455</td>\n",
              "    </tr>\n",
              "    <tr>\n",
              "      <th>2</th>\n",
              "      <td>Donald Trump reads Top Ten Financial Tips on L...</td>\n",
              "      <td>0.420000</td>\n",
              "      <td>0.121250</td>\n",
              "    </tr>\n",
              "    <tr>\n",
              "      <th>3</th>\n",
              "      <td>New Blog Post: Celebrity Apprentice Finale and...</td>\n",
              "      <td>0.454545</td>\n",
              "      <td>0.136364</td>\n",
              "    </tr>\n",
              "    <tr>\n",
              "      <th>4</th>\n",
              "      <td>\"My persona will never be that of a wallflower...</td>\n",
              "      <td>0.000000</td>\n",
              "      <td>0.000000</td>\n",
              "    </tr>\n",
              "    <tr>\n",
              "      <th>...</th>\n",
              "      <td>...</td>\n",
              "      <td>...</td>\n",
              "      <td>...</td>\n",
              "    </tr>\n",
              "    <tr>\n",
              "      <th>95</th>\n",
              "      <td>We're all very happy to hear of Bret Michael's...</td>\n",
              "      <td>0.616667</td>\n",
              "      <td>0.783333</td>\n",
              "    </tr>\n",
              "    <tr>\n",
              "      <th>96</th>\n",
              "      <td>Looking forward to the 2010 Miss USA Pageant, ...</td>\n",
              "      <td>0.500000</td>\n",
              "      <td>0.136364</td>\n",
              "    </tr>\n",
              "    <tr>\n",
              "      <th>97</th>\n",
              "      <td>Congratulations to our new Miss USA, the beaut...</td>\n",
              "      <td>0.818182</td>\n",
              "      <td>0.662121</td>\n",
              "    </tr>\n",
              "    <tr>\n",
              "      <th>98</th>\n",
              "      <td>Put this on your calendar: The Celebrity Appre...</td>\n",
              "      <td>0.250000</td>\n",
              "      <td>0.068182</td>\n",
              "    </tr>\n",
              "    <tr>\n",
              "      <th>99</th>\n",
              "      <td>Check out Ivanka's new FaceBook page and keep ...</td>\n",
              "      <td>0.584848</td>\n",
              "      <td>0.345455</td>\n",
              "    </tr>\n",
              "  </tbody>\n",
              "</table>\n",
              "<p>100 rows × 3 columns</p>\n",
              "</div>"
            ],
            "text/plain": [
              "                                               Tweets  Subjectivity  Polarity\n",
              "0   Be sure to tune in and watch Donald Trump on L...      0.497222  0.175000\n",
              "1   Donald Trump will be appearing on The View tom...      0.454545  0.170455\n",
              "2   Donald Trump reads Top Ten Financial Tips on L...      0.420000  0.121250\n",
              "3   New Blog Post: Celebrity Apprentice Finale and...      0.454545  0.136364\n",
              "4   \"My persona will never be that of a wallflower...      0.000000  0.000000\n",
              "..                                                ...           ...       ...\n",
              "95  We're all very happy to hear of Bret Michael's...      0.616667  0.783333\n",
              "96  Looking forward to the 2010 Miss USA Pageant, ...      0.500000  0.136364\n",
              "97  Congratulations to our new Miss USA, the beaut...      0.818182  0.662121\n",
              "98  Put this on your calendar: The Celebrity Appre...      0.250000  0.068182\n",
              "99  Check out Ivanka's new FaceBook page and keep ...      0.584848  0.345455\n",
              "\n",
              "[100 rows x 3 columns]"
            ]
          },
          "execution_count": 5,
          "metadata": {
            "tags": []
          },
          "output_type": "execute_result"
        }
      ],
      "source": [
        "# function to get the subjectivity of the tweet\n",
        "def getSubjectivity(text):\n",
        "   return TextBlob(text).sentiment.subjectivity\n",
        "\n",
        "# function to get the polarity of the tweet\n",
        "def getPolarity(text):\n",
        "   return  TextBlob(text).sentiment.polarity\n",
        "\n",
        "\n",
        "# creating two columns in the data to place the subjectivity and polarity of the tweet\n",
        "df['Subjectivity'] = df['Tweets'].apply(getSubjectivity)\n",
        "df['Polarity'] = df['Tweets'].apply(getPolarity)\n",
        "\n",
        "df"
      ]
    },
    {
      "cell_type": "code",
      "execution_count": null,
      "metadata": {
        "colab": {
          "base_uri": "https://localhost:8080/",
          "height": 417
        },
        "id": "lMXRNblTm7ig",
        "outputId": "eeaa9cbd-9bb7-4d2f-d9c2-49cd61384426"
      },
      "outputs": [
        {
          "data": {
            "text/html": [
              "<div>\n",
              "<style scoped>\n",
              "    .dataframe tbody tr th:only-of-type {\n",
              "        vertical-align: middle;\n",
              "    }\n",
              "\n",
              "    .dataframe tbody tr th {\n",
              "        vertical-align: top;\n",
              "    }\n",
              "\n",
              "    .dataframe thead th {\n",
              "        text-align: right;\n",
              "    }\n",
              "</style>\n",
              "<table border=\"1\" class=\"dataframe\">\n",
              "  <thead>\n",
              "    <tr style=\"text-align: right;\">\n",
              "      <th></th>\n",
              "      <th>Tweets</th>\n",
              "      <th>Subjectivity</th>\n",
              "      <th>Polarity</th>\n",
              "      <th>Analysis</th>\n",
              "    </tr>\n",
              "  </thead>\n",
              "  <tbody>\n",
              "    <tr>\n",
              "      <th>0</th>\n",
              "      <td>Be sure to tune in and watch Donald Trump on L...</td>\n",
              "      <td>0.497222</td>\n",
              "      <td>0.175000</td>\n",
              "      <td>Positive</td>\n",
              "    </tr>\n",
              "    <tr>\n",
              "      <th>1</th>\n",
              "      <td>Donald Trump will be appearing on The View tom...</td>\n",
              "      <td>0.454545</td>\n",
              "      <td>0.170455</td>\n",
              "      <td>Positive</td>\n",
              "    </tr>\n",
              "    <tr>\n",
              "      <th>2</th>\n",
              "      <td>Donald Trump reads Top Ten Financial Tips on L...</td>\n",
              "      <td>0.420000</td>\n",
              "      <td>0.121250</td>\n",
              "      <td>Positive</td>\n",
              "    </tr>\n",
              "    <tr>\n",
              "      <th>3</th>\n",
              "      <td>New Blog Post: Celebrity Apprentice Finale and...</td>\n",
              "      <td>0.454545</td>\n",
              "      <td>0.136364</td>\n",
              "      <td>Positive</td>\n",
              "    </tr>\n",
              "    <tr>\n",
              "      <th>4</th>\n",
              "      <td>\"My persona will never be that of a wallflower...</td>\n",
              "      <td>0.000000</td>\n",
              "      <td>0.000000</td>\n",
              "      <td>Neutral</td>\n",
              "    </tr>\n",
              "    <tr>\n",
              "      <th>...</th>\n",
              "      <td>...</td>\n",
              "      <td>...</td>\n",
              "      <td>...</td>\n",
              "      <td>...</td>\n",
              "    </tr>\n",
              "    <tr>\n",
              "      <th>95</th>\n",
              "      <td>We're all very happy to hear of Bret Michael's...</td>\n",
              "      <td>0.616667</td>\n",
              "      <td>0.783333</td>\n",
              "      <td>Positive</td>\n",
              "    </tr>\n",
              "    <tr>\n",
              "      <th>96</th>\n",
              "      <td>Looking forward to the 2010 Miss USA Pageant, ...</td>\n",
              "      <td>0.500000</td>\n",
              "      <td>0.136364</td>\n",
              "      <td>Positive</td>\n",
              "    </tr>\n",
              "    <tr>\n",
              "      <th>97</th>\n",
              "      <td>Congratulations to our new Miss USA, the beaut...</td>\n",
              "      <td>0.818182</td>\n",
              "      <td>0.662121</td>\n",
              "      <td>Positive</td>\n",
              "    </tr>\n",
              "    <tr>\n",
              "      <th>98</th>\n",
              "      <td>Put this on your calendar: The Celebrity Appre...</td>\n",
              "      <td>0.250000</td>\n",
              "      <td>0.068182</td>\n",
              "      <td>Positive</td>\n",
              "    </tr>\n",
              "    <tr>\n",
              "      <th>99</th>\n",
              "      <td>Check out Ivanka's new FaceBook page and keep ...</td>\n",
              "      <td>0.584848</td>\n",
              "      <td>0.345455</td>\n",
              "      <td>Positive</td>\n",
              "    </tr>\n",
              "  </tbody>\n",
              "</table>\n",
              "<p>100 rows × 4 columns</p>\n",
              "</div>"
            ],
            "text/plain": [
              "                                               Tweets  ...  Analysis\n",
              "0   Be sure to tune in and watch Donald Trump on L...  ...  Positive\n",
              "1   Donald Trump will be appearing on The View tom...  ...  Positive\n",
              "2   Donald Trump reads Top Ten Financial Tips on L...  ...  Positive\n",
              "3   New Blog Post: Celebrity Apprentice Finale and...  ...  Positive\n",
              "4   \"My persona will never be that of a wallflower...  ...   Neutral\n",
              "..                                                ...  ...       ...\n",
              "95  We're all very happy to hear of Bret Michael's...  ...  Positive\n",
              "96  Looking forward to the 2010 Miss USA Pageant, ...  ...  Positive\n",
              "97  Congratulations to our new Miss USA, the beaut...  ...  Positive\n",
              "98  Put this on your calendar: The Celebrity Appre...  ...  Positive\n",
              "99  Check out Ivanka's new FaceBook page and keep ...  ...  Positive\n",
              "\n",
              "[100 rows x 4 columns]"
            ]
          },
          "execution_count": 6,
          "metadata": {
            "tags": []
          },
          "output_type": "execute_result"
        }
      ],
      "source": [
        "# tag allotment for each tweet based on the polariy\n",
        "def getAnalysis(score):\n",
        "  if score < 0:\n",
        "    return 'Negative'\n",
        "  elif score == 0:\n",
        "    return 'Neutral'\n",
        "  else:\n",
        "    return 'Positive'\n",
        "df['Analysis'] = df['Polarity'].apply(getAnalysis)\n",
        "# Show the dataframe\n",
        "df"
      ]
    },
    {
      "cell_type": "code",
      "execution_count": null,
      "metadata": {
        "colab": {
          "base_uri": "https://localhost:8080/"
        },
        "id": "_x2R2K0EnfbV",
        "outputId": "e27d55f6-a137-4c47-9226-e36542aca6e3"
      },
      "outputs": [
        {
          "data": {
            "text/plain": [
              "Positive    62\n",
              "Neutral     33\n",
              "Negative     5\n",
              "Name: Analysis, dtype: int64"
            ]
          },
          "execution_count": 7,
          "metadata": {
            "tags": []
          },
          "output_type": "execute_result"
        }
      ],
      "source": [
        "# to produce the counts of the data\n",
        "df['Analysis'].value_counts()"
      ]
    },
    {
      "cell_type": "code",
      "execution_count": null,
      "metadata": {
        "colab": {
          "base_uri": "https://localhost:8080/",
          "height": 331
        },
        "id": "5kVhDLrCnkhb",
        "outputId": "cef05e04-9871-421a-ddde-b1a42e69003b"
      },
      "outputs": [
        {
          "data": {
            "image/png": "[encoded data removed]",
            "text/plain": [
              "<Figure size 432x288 with 1 Axes>"
            ]
          },
          "metadata": {
            "needs_background": "light",
            "tags": []
          },
          "output_type": "display_data"
        }
      ],
      "source": [
        "#To produce the graph for proper data visualization \n",
        "plt.title('Sentiment Analysis')\n",
        "plt.xlabel('Sentiment')\n",
        "plt.ylabel('Counts')\n",
        "df['Analysis'].value_counts().plot(kind = 'bar')\n",
        "plt.show()"
      ]
    }
  ],
  "metadata": {
    "colab": {
      "provenance": []
    },
    "kernelspec": {
      "display_name": "Python 3.9.13 64-bit (windows store)",
      "language": "python",
      "name": "python3"
    },
    "language_info": {
      "name": "python",
      "version": "3.9.13"
    },
    "vscode": {
      "interpreter": {
        "hash": "3caac73d65d3d114afe95b274f98ecb0fe31fb8ca6ab7a8c2ccc87c6f347539d"
      }
    }
  },
  "nbformat": 4,
  "nbformat_minor": 0
}
